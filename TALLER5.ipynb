{
  "nbformat": 4,
  "nbformat_minor": 0,
  "metadata": {
    "colab": {
      "provenance": [],
      "authorship_tag": "ABX9TyM5I7k8sGJivPUfk4XoLMP6",
      "include_colab_link": true
    },
    "kernelspec": {
      "name": "python3",
      "display_name": "Python 3"
    },
    "language_info": {
      "name": "python"
    }
  },
  "cells": [
    {
      "cell_type": "markdown",
      "metadata": {
        "id": "view-in-github",
        "colab_type": "text"
      },
      "source": [
        "<a href=\"https://colab.research.google.com/github/Lina-hernandez22/TALLER_5/blob/main/TALLER5.ipynb\" target=\"_parent\"><img src=\"https://colab.research.google.com/assets/colab-badge.svg\" alt=\"Open In Colab\"/></a>"
      ]
    },
    {
      "cell_type": "markdown",
      "source": [
        "##EJERCICIO 1\n",
        "Escribe un programa en Python que solicite al usuario un número entero positivo n y luego imprima los primeros n números naturales usando un ciclo while."
      ],
      "metadata": {
        "id": "t2dwVHSIwXuC"
      }
    },
    {
      "cell_type": "code",
      "execution_count": 1,
      "metadata": {
        "colab": {
          "base_uri": "https://localhost:8080/"
        },
        "id": "K6Ef2Va2nLng",
        "outputId": "0fd742a3-b423-4299-dcb6-d99fc8719ea2"
      },
      "outputs": [
        {
          "output_type": "stream",
          "name": "stdout",
          "text": [
            "Ingrese un número entero positivo: 5\n",
            "1\n",
            "2\n",
            "3\n",
            "4\n",
            "5\n"
          ]
        }
      ],
      "source": [
        "\n",
        "n = int(input(\"Ingrese un número entero positivo: \"))\n",
        "\n",
        "if n <= 0:\n",
        "    print(\"Por favor, ingrese un número entero positivo.\")\n",
        "else:\n",
        "\n",
        "    contador = 1\n",
        "\n",
        "    while contador <= n:\n",
        "        print(contador)\n",
        "        contador += 1\n"
      ]
    },
    {
      "cell_type": "markdown",
      "source": [
        "##EJERCICIO 2\n",
        "Escribe un programa en Python que solicite al usuario un número entero posi;vo n y luego imprima los primeros n números naturales usando un ciclo while."
      ],
      "metadata": {
        "id": "bBFMUVLrw0Ek"
      }
    },
    {
      "cell_type": "code",
      "source": [
        "suma = 0\n",
        "\n",
        "for numero in range(1, 101):\n",
        "\n",
        "    if numero % 2 == 0:\n",
        "\n",
        "        suma += numero\n",
        "\n",
        "print(\"La suma de los números pares del 1 al 100 es:\", suma)"
      ],
      "metadata": {
        "colab": {
          "base_uri": "https://localhost:8080/"
        },
        "id": "QShhaLODoy0V",
        "outputId": "81ac82c9-1fb6-4310-e15f-7a04e3e657d8"
      },
      "execution_count": 2,
      "outputs": [
        {
          "output_type": "stream",
          "name": "stdout",
          "text": [
            "La suma de los números pares del 1 al 100 es: 2550\n"
          ]
        }
      ]
    },
    {
      "cell_type": "markdown",
      "source": [
        "##EJERCICIO 3\n",
        "Escribe un programa en Python que imprima el siguiente patrón u;lizando ciclos\n",
        "anidados:\n",
        "\n",
        "1\n",
        "\n",
        "12\n",
        "\n",
        "123\n",
        "\n",
        "1234\n",
        "\n",
        "12345\n",
        "\n",
        "Etc…."
      ],
      "metadata": {
        "id": "dJofSModw_FL"
      }
    },
    {
      "cell_type": "code",
      "source": [
        "n = int(input(\"ingrese un numero entero positivo\"))\n",
        "\n",
        "for i in range(1, n + 1):\n",
        "    for j in range(1, i + 1):\n",
        "        print(j, end=\"\")\n",
        "    print()\n"
      ],
      "metadata": {
        "colab": {
          "base_uri": "https://localhost:8080/"
        },
        "id": "lG89xSgppQFK",
        "outputId": "3d84355f-0f09-4e92-b1e8-dbdc8053ad9c"
      },
      "execution_count": 4,
      "outputs": [
        {
          "output_type": "stream",
          "name": "stdout",
          "text": [
            "ingrese un numero entero positivo8\n",
            "1\n",
            "12\n",
            "123\n",
            "1234\n",
            "12345\n",
            "123456\n",
            "1234567\n",
            "12345678\n"
          ]
        }
      ]
    },
    {
      "cell_type": "markdown",
      "source": [
        "##EJERCICIO 4\n",
        "Escribe un programa en Python que solicite al usuario un número entero posi;vo y luego determine si ese número es primo o no utilizando un ciclo while."
      ],
      "metadata": {
        "id": "MmPBDUTVxgP_"
      }
    },
    {
      "cell_type": "code",
      "source": [
        "n = int(input(\"Ingrese un número entero positivo: \"))\n",
        "\n",
        "if n <= 0:\n",
        "    print(\"Por favor, ingrese un número entero positivo.\")\n",
        "else:\n",
        "\n",
        "    divisores = 0\n",
        "\n",
        "    i = 1\n",
        "\n",
        "    while i <= n:\n",
        "        if n % i == 0:\n",
        "            divisores += 1\n",
        "        i += 1\n",
        "\n",
        "    if divisores == 2:\n",
        "        print(f\"{n} es un número primo.\")\n",
        "    else:\n",
        "        print(f\"{n} no es un número primo.\")\n"
      ],
      "metadata": {
        "colab": {
          "base_uri": "https://localhost:8080/"
        },
        "id": "_O-lZ6WAqcm6",
        "outputId": "3bf56b00-eea3-4cf3-cfc0-c2d66e6f66b6"
      },
      "execution_count": 5,
      "outputs": [
        {
          "output_type": "stream",
          "name": "stdout",
          "text": [
            "Ingrese un número entero positivo: 8\n",
            "8 no es un número primo.\n"
          ]
        }
      ]
    },
    {
      "cell_type": "markdown",
      "source": [
        "##EJERCICIO 5\n",
        "Escribe un programa en Python que incluya un ciclo while que no se detenga hasta que el usuario ingrese \"salir\" como entrada. Dentro del ciclo, permite al usuario realizar operaciones matemáticas simples como suma, resta, multiplicación o división."
      ],
      "metadata": {
        "id": "HAZkN0BGxrAt"
      }
    },
    {
      "cell_type": "code",
      "source": [
        "while True:\n",
        "\n",
        "    operacion = input(\"Ingrese una operación (suma, resta, multiplicación, división) o 'salir' para terminar: \").lower()\n",
        "\n",
        "    if operacion == \"salir\":\n",
        "        break\n",
        "\n",
        "    if operacion not in [\"suma\", \"resta\", \"multiplicación\", \"división\"]:\n",
        "        print(\"Operación no válida. Por favor, ingrese una operación válida.\")\n",
        "        continue\n",
        "\n",
        "    try:\n",
        "        num1 = float(input(\"Ingrese el primer número: \"))\n",
        "        num2 = float(input(\"Ingrese el segundo número: \"))\n",
        "    except ValueError:\n",
        "        print(\"Error: Ingrese números válidos.\")\n",
        "        continue\n",
        "\n",
        "    if operacion == \"suma\":\n",
        "        resultado = num1 + num2\n",
        "    elif operacion == \"resta\":\n",
        "        resultado = num1 - num2\n",
        "    elif operacion == \"multiplicación\":\n",
        "        resultado = num1 * num2\n",
        "    elif operacion == \"división\":\n",
        "        if num2 == 0:\n",
        "            print(\"Error: No se puede dividir por cero.\")\n",
        "            continue\n",
        "        resultado = num1 / num2\n",
        "\n",
        "    print(\"Resultado:\", resultado)\n"
      ],
      "metadata": {
        "colab": {
          "base_uri": "https://localhost:8080/"
        },
        "id": "zlngPTRVttln",
        "outputId": "5ee3f0f1-dc17-4c76-c8eb-da52613fc568"
      },
      "execution_count": 9,
      "outputs": [
        {
          "name": "stdout",
          "output_type": "stream",
          "text": [
            "Ingrese una operación (suma, resta, multiplicación, división) o 'salir' para terminar: suma\n",
            "Ingrese el primer número: 4\n",
            "Ingrese el segundo número: 2\n",
            "Resultado: 6.0\n",
            "Ingrese una operación (suma, resta, multiplicación, división) o 'salir' para terminar: multiplicación\n",
            "Ingrese el primer número: 2\n",
            "Ingrese el segundo número: 3\n",
            "Resultado: 6.0\n",
            "Ingrese una operación (suma, resta, multiplicación, división) o 'salir' para terminar: resta\n",
            "Ingrese el primer número: 4\n",
            "Ingrese el segundo número: 3\n",
            "Resultado: 1.0\n",
            "Ingrese una operación (suma, resta, multiplicación, división) o 'salir' para terminar: division\n",
            "Operación no válida. Por favor, ingrese una operación válida.\n",
            "Ingrese una operación (suma, resta, multiplicación, división) o 'salir' para terminar: división\n",
            "Ingrese el primer número: 5\n",
            "Ingrese el segundo número: 5\n",
            "Resultado: 1.0\n",
            "Ingrese una operación (suma, resta, multiplicación, división) o 'salir' para terminar: salir\n"
          ]
        }
      ]
    },
    {
      "cell_type": "markdown",
      "source": [
        "##EJERCICIO 6\n",
        "Escribe un programa en Python que imprima los números del 1 al número ingresado\n",
        "por el usuario, en orden descendente utilizando un ciclo for y la función range"
      ],
      "metadata": {
        "id": "400NCLnUx4iD"
      }
    },
    {
      "cell_type": "code",
      "source": [
        "n = int(input(\"Ingrese un número entero positivo: \"))\n",
        "\n",
        "if n <= 0:\n",
        "    print(\"Por favor, ingrese un número entero positivo.\")\n",
        "else:\n",
        "    for numero in range(n, 0, -1):\n",
        "        print(numero)\n"
      ],
      "metadata": {
        "colab": {
          "base_uri": "https://localhost:8080/"
        },
        "id": "XhaaVKCsuQ3K",
        "outputId": "6154de84-0707-4c94-841f-4d5b76675a81"
      },
      "execution_count": 10,
      "outputs": [
        {
          "output_type": "stream",
          "name": "stdout",
          "text": [
            "Ingrese un número entero positivo: 5\n",
            "5\n",
            "4\n",
            "3\n",
            "2\n",
            "1\n"
          ]
        }
      ]
    },
    {
      "cell_type": "markdown",
      "source": [
        "##EJERCICIO 7\n",
        "Escribe un programa en Python que imprima la secuencia de números de Fibonacci\n",
        "hasta un valor dado n utilizando un ciclo while."
      ],
      "metadata": {
        "id": "fXyZp6sFyDit"
      }
    },
    {
      "cell_type": "code",
      "source": [
        "n = int(input(\"Ingrese un valor n para la secuencia de Fibonacci: \"))\n",
        "\n",
        "if n <= 0:\n",
        "    print(\"Por favor, ingrese un valor n válido (mayor que 0).\")\n",
        "else:\n",
        "    a, b = 0, 1\n",
        "\n",
        "    print(\"Secuencia de Fibonacci:\")\n",
        "    print(a)\n",
        "\n",
        "    while b <= n:\n",
        "        print(b)\n",
        "        a, b = b, a + b"
      ],
      "metadata": {
        "colab": {
          "base_uri": "https://localhost:8080/"
        },
        "id": "LyECO6thvgUQ",
        "outputId": "e0a6c790-59c4-4e72-a997-099833dfc518"
      },
      "execution_count": 12,
      "outputs": [
        {
          "output_type": "stream",
          "name": "stdout",
          "text": [
            "Ingrese un valor n para la secuencia de Fibonacci: 10\n",
            "Secuencia de Fibonacci:\n",
            "0\n",
            "1\n",
            "1\n",
            "2\n",
            "3\n",
            "5\n",
            "8\n"
          ]
        }
      ]
    },
    {
      "cell_type": "markdown",
      "source": [
        "##EJERCICIO 8\n",
        "Escribe un programa en Python que solicite al usuario un número entero positivo y luego calcule la suma de sus dígitos utilizando un ciclo while"
      ],
      "metadata": {
        "id": "cpgrfMPPyLD-"
      }
    },
    {
      "cell_type": "code",
      "source": [
        "numero = int(input(\"Ingrese un número entero positivo: \"))\n",
        "\n",
        "if numero <= 0:\n",
        "    print(\"Por favor, ingrese un número entero positivo.\")\n",
        "else:\n",
        "    suma_digitos = 0\n",
        "\n",
        "    while numero > 0:\n",
        "        digito = numero % 10\n",
        "        suma_digitos += digito\n",
        "        numero //= 10\n",
        "\n",
        "    print(\"La suma de los dígitos es:\", suma_digitos)\n"
      ],
      "metadata": {
        "colab": {
          "base_uri": "https://localhost:8080/"
        },
        "id": "T7UeWe6ivxnv",
        "outputId": "39cd5061-7038-4170-abd6-8d505d1268f5"
      },
      "execution_count": 15,
      "outputs": [
        {
          "output_type": "stream",
          "name": "stdout",
          "text": [
            "Ingrese un número entero positivo: 25\n",
            "La suma de los dígitos es: 7\n"
          ]
        }
      ]
    }
  ]
}